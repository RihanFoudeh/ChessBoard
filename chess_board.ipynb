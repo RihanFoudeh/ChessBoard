{
 "cells": [
  {
   "cell_type": "code",
   "execution_count": 1,
   "metadata": {},
   "outputs": [],
   "source": [
    "import matplotlib.pyplot as plt\n",
    "import numpy as np\n",
    "\n",
    "class ChessBoard:\n",
    "    def  __init__(self):\n",
    "        self.grid=np.ones((8,8,3))\n",
    "        self.red=[]\n",
    "        self.blue=[]\n",
    "\n",
    "        div = 1 \n",
    "        for col in range(8):\n",
    "            for row in range(8):\n",
    "                div = 0 if div else 1\n",
    "                if row % 2 == div and col % 2 == div :\n",
    "                    self.grid[col][row] = np.array((0,0,0))\n",
    "\n",
    "    def add_red(self,raw,column):\n",
    "        self.grid[raw,column]=[1,.2,0]\n",
    "        self.red=[raw,column]\n",
    "        \n",
    "    \n",
    "    def add_blue (self,raw,column):\n",
    "        self.grid[raw,column]=[0,1,1]\n",
    "        self.blue=[raw,column]\n",
    "\n",
    "\n",
    "    def render(self,raw1,column1,raw2,column2):\n",
    "        self.__init__()\n",
    "        self.add_red(raw1,column1)\n",
    "        self.add_blue(raw2,column2)\n",
    "        plt.imshow(self.grid)\n",
    "        \n",
    "    def is_under_attack (self):\n",
    "        if self.red[0] == self.blue[0]:\n",
    "            return True\n",
    "                \n",
    "        elif self.red[1] == self.blue[1]:\n",
    "            return True\n",
    "        \n",
    "        elif abs(self.red[1] - self.blue[1]) == abs(self.red[0]-self.blue[0]):\n",
    "            return True\n",
    "        \n",
    "        else:\n",
    "            return False"
   ]
  },
  {
   "cell_type": "code",
   "execution_count": 2,
   "metadata": {},
   "outputs": [
    {
     "name": "stdout",
     "output_type": "stream",
     "text": [
      "True\n"
     ]
    },
    {
     "data": {
      "image/png": "[encoded data removed]",
      "text/plain": [
       "<Figure size 432x288 with 1 Axes>"
      ]
     },
     "metadata": {
      "needs_background": "light"
     },
     "output_type": "display_data"
    }
   ],
   "source": [
    "\n",
    "chess=ChessBoard()\n",
    "chess.render(4,2,1,5)\n",
    "print(chess.is_under_attack())"
   ]
  },
  {
   "cell_type": "code",
   "execution_count": 3,
   "metadata": {},
   "outputs": [
    {
     "name": "stdout",
     "output_type": "stream",
     "text": [
      "under attack\n"
     ]
    },
    {
     "data": {
      "image/png": "[encoded data removed]",
      "text/plain": [
       "<Figure size 432x288 with 1 Axes>"
      ]
     },
     "metadata": {
      "needs_background": "light"
     },
     "output_type": "display_data"
    }
   ],
   "source": [
    "def test_same_raw():\n",
    "    chess=ChessBoard()\n",
    "    chess.render(1,3,1,5)\n",
    "    assert chess.is_under_attack()==True\n",
    "    print('under attack')\n",
    "    \n",
    "test_same_raw()"
   ]
  },
  {
   "cell_type": "code",
   "execution_count": 4,
   "metadata": {},
   "outputs": [
    {
     "name": "stdout",
     "output_type": "stream",
     "text": [
      "under attack\n"
     ]
    },
    {
     "data": {
      "image/png": "[encoded data removed]",
      "text/plain": [
       "<Figure size 432x288 with 1 Axes>"
      ]
     },
     "metadata": {
      "needs_background": "light"
     },
     "output_type": "display_data"
    }
   ],
   "source": [
    "def test_same_column():\n",
    "    chess=ChessBoard()\n",
    "    chess.render(2,3,6,3)\n",
    "    assert chess.is_under_attack()==True\n",
    "    print('under attack')\n",
    "    \n",
    "test_same_column()"
   ]
  },
  {
   "cell_type": "code",
   "execution_count": 5,
   "metadata": {},
   "outputs": [
    {
     "name": "stdout",
     "output_type": "stream",
     "text": [
      "under attack\n"
     ]
    },
    {
     "data": {
      "image/png": "[encoded data removed]",
      "text/plain": [
       "<Figure size 432x288 with 1 Axes>"
      ]
     },
     "metadata": {
      "needs_background": "light"
     },
     "output_type": "display_data"
    }
   ],
   "source": [
    "def test_same_diagonal():\n",
    "    chess=ChessBoard()\n",
    "    chess.render(2,3,5,6)\n",
    "    assert chess.is_under_attack()==True\n",
    "    print('under attack')\n",
    "    \n",
    "test_same_diagonal()"
   ]
  },
  {
   "cell_type": "code",
   "execution_count": 6,
   "metadata": {},
   "outputs": [
    {
     "name": "stdout",
     "output_type": "stream",
     "text": [
      "Queen is safe\n"
     ]
    },
    {
     "data": {
      "image/png": "[encoded data removed]",
      "text/plain": [
       "<Figure size 432x288 with 1 Axes>"
      ]
     },
     "metadata": {
      "needs_background": "light"
     },
     "output_type": "display_data"
    }
   ],
   "source": [
    "def test_isnot_under_attack():\n",
    "    chess=ChessBoard()\n",
    "    chess.render(2,3,5,7)\n",
    "    assert chess.is_under_attack()==False\n",
    "    print('Queen is safe')\n",
    "    \n",
    "test_isnot_under_attack()"
   ]
  }
 ],
 "metadata": {
  "interpreter": {
   "hash": "9f578d26a5fc2a5f8f1d2a39066613f2c8b54489ff04db396e700f9e0bc68390"
  },
  "kernelspec": {
   "display_name": "Python 3 (ipykernel)",
   "language": "python",
   "name": "python3"
  },
  "language_info": {
   "codemirror_mode": {
    "name": "ipython",
    "version": 3
   },
   "file_extension": ".py",
   "mimetype": "text/x-python",
   "name": "python",
   "nbconvert_exporter": "python",
   "pygments_lexer": "ipython3",
   "version": "3.9.5"
  }
 },
 "nbformat": 4,
 "nbformat_minor": 4
}
